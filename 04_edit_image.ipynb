{
 "cells": [
  {
   "cell_type": "markdown",
   "metadata": {},
   "source": [
    "## 05. 이미지 조정"
   ]
  },
  {
   "cell_type": "code",
   "execution_count": 25,
   "metadata": {},
   "outputs": [],
   "source": [
    "import cv2\n",
    "import numpy as np"
   ]
  },
  {
   "cell_type": "code",
   "execution_count": 24,
   "metadata": {},
   "outputs": [],
   "source": [
    "DOG_PATH = \"images/dog.jpg\""
   ]
  },
  {
   "cell_type": "markdown",
   "metadata": {},
   "source": [
    "### 5-1. 이미지 복사"
   ]
  },
  {
   "cell_type": "code",
   "execution_count": 30,
   "metadata": {},
   "outputs": [],
   "source": [
    "img = cv2.imread(DOG_PATH)\n",
    "shallow_copy = img  # 얕은 복사\n",
    "deep_copy = img.copy()  # 깊은 복사\n",
    "\n",
    "gray = cv2.cvtColor(shallow_copy, cv2.COLOR_BGR2GRAY)\n",
    "\n",
    "cv2.imshow(\"original\", img)\n",
    "cv2.imshow(\"shallow\", gray)\n",
    "\n",
    "cv2.waitKey(0)\n",
    "cv2.destroyAllWindows()"
   ]
  },
  {
   "cell_type": "markdown",
   "metadata": {},
   "source": [
    "### 5-2. 리사이즈"
   ]
  },
  {
   "cell_type": "code",
   "execution_count": 21,
   "metadata": {},
   "outputs": [],
   "source": [
    "img = cv2.imread(DOG_PATH)\n",
    "img.shape\n",
    "\n",
    "# 고정 크기를 입력하여 조정\n",
    "# dst = cv2.resize(img, (240,350))\n",
    "\n",
    "# 비율로 조정\n",
    "near = cv2.resize(img,None, fx=1.5, fy=1.5,interpolation=cv2.INTER_NEAREST)\n",
    "cubic = cv2.resize(img,None, fx=1.5, fy=1.5, interpolation=cv2.INTER_CUBIC)\n",
    "\n",
    "\n",
    "cv2.imshow(\"resize\",near)\n",
    "cv2.imshow(\"cubic\",cubic)\n",
    "cv2.waitKey(0)\n",
    "cv2.destroyAllWindows()"
   ]
  },
  {
   "cell_type": "code",
   "execution_count": 43,
   "metadata": {},
   "outputs": [],
   "source": [
    "cap = cv2.VideoCapture('videos/wa.mp4')\n",
    "\n",
    "if not cap.isOpened():\n",
    "    exit()\n",
    "\n",
    "while True:\n",
    "    ret , frame = cap.read()\n",
    "\n",
    "    if not ret:\n",
    "        break\n",
    "\n",
    "    max = cv2.resize(frame ,None, fx=1.5, fy=1.5, interpolation=cv2.INTER_BITS)  # frame을 resize해야한다.\n",
    "\n",
    "    cv2.imshow(\"max\",max)\n",
    "    cv2.imshow(\"video\",frame)\n",
    "\n",
    "    if cv2.waitKey(1) == ord('q'):\n",
    "        break\n",
    "\n",
    "cap.release()\n",
    "cv2.destroyAllWindows()\n",
    "    \n"
   ]
  },
  {
   "cell_type": "code",
   "execution_count": 21,
   "metadata": {},
   "outputs": [],
   "source": [
    "img = cv2.imread(DOG_PATH)\n",
    "\n",
    "size_up = cv2.pyrUp(img)\n",
    "size_down = cv2.pyrDown(img)\n",
    "\n",
    "cv2.imshow(\"PyrUp\",size_up)\n",
    "cv2.imshow(\"PyDown\",size_down)\n",
    "cv2.imshow(\"original\",img)\n",
    "\n",
    "cv2.waitKey(0)\n",
    "cv2.destroyAllWindows()"
   ]
  },
  {
   "cell_type": "markdown",
   "metadata": {},
   "source": [
    "## 5-3. 이미지 자르기"
   ]
  },
  {
   "cell_type": "code",
   "execution_count": 28,
   "metadata": {},
   "outputs": [],
   "source": [
    "img = cv2.imread(DOG_PATH)\n",
    "\n",
    "cropped = img[150:250, 350:450]\n",
    "img[100:200, 300:400] = cropped\n",
    "cv2.imshow(\"Dog\",img)\n",
    "cv2.imshow(\"Dog Cropped\", cropped)\n",
    "\n",
    "cv2.waitKey(0)\n",
    "cv2.destroyAllWindows()"
   ]
  },
  {
   "cell_type": "markdown",
   "metadata": {},
   "source": [
    "## 5-4. 이미지 대칭\n",
    "- 'flipcode > 1' : 좌우 반전 (y축 반전)\n",
    "- 'flipcode == 0' : 상하 반전 (x축 반전)\n",
    "- 'flipcode < 0' : 상하좌우 반전"
   ]
  },
  {
   "cell_type": "code",
   "execution_count": 20,
   "metadata": {},
   "outputs": [],
   "source": [
    "img = cv2.imread(DOG_PATH)\n",
    "\n",
    "dst_1 = cv2.flip(img, 1)\n",
    "dst_2 = cv2.flip(img, 0)\n",
    "dst_3 = cv2.flip(img, -1)\n",
    "\n",
    "cv2.imshow(\"images\",img)\n",
    "cv2.imshow(\"dst_1\", dst_1)\n",
    "cv2.imshow(\"dst_2\", dst_2)\n",
    "cv2.imshow(\"dst_3\", dst_3)\n",
    "\n",
    "cv2.waitKey(0)\n",
    "cv2.destroyAllWindows()"
   ]
  },
  {
   "cell_type": "code",
   "execution_count": 52,
   "metadata": {},
   "outputs": [],
   "source": [
    "img = cv2.imread(\"images/sana.jpg\")\n",
    "min = cv2.pyrDown(img)\n",
    "dst = cv2.flip(min,1)\n",
    "img[416:832, 283:567] = dst\n",
    "\n",
    "cv2.imshow(\"original\",img)\n",
    "# cv2.imshow(\"dst\",dst)\n",
    "\n",
    "cv2.waitKey(0)\n",
    "cv2.destroyAllWindows()\n",
    "\n"
   ]
  },
  {
   "cell_type": "code",
   "execution_count": 53,
   "metadata": {},
   "outputs": [
    {
     "name": "stdout",
     "output_type": "stream",
     "text": [
      "Original image shape: (832, 567, 3)\n",
      "Resized and flipped image shape: (416, 284, 3)\n"
     ]
    }
   ],
   "source": [
    "# 원본사진에 넣을 사이즈를 못맞춰서 gpt의 도움을 받은 버전전\n",
    "\n",
    "import cv2\n",
    "\n",
    "# 이미지 읽기\n",
    "img = cv2.imread(\"images/sana.jpg\")\n",
    "\n",
    "# 원본 이미지 크기 확인\n",
    "print(\"Original image shape:\", img.shape)\n",
    "\n",
    "# 이미지를 축소\n",
    "min = cv2.pyrDown(img)\n",
    "\n",
    "# 축소된 이미지를 반전 (좌우 반전)\n",
    "dst = cv2.flip(min, 1)\n",
    "\n",
    "# 반전된 이미지의 크기 확인\n",
    "print(\"Resized and flipped image shape:\", dst.shape)\n",
    "\n",
    "# 원본 이미지의 우측 하단에 반전된 이미지를 배치\n",
    "# 우측 하단의 시작 위치: (416, 283)부터 시작하여 dst 이미지 크기만큼 배치\n",
    "height, width = img.shape[:2]\n",
    "dst_height, dst_width = dst.shape[:2]\n",
    "\n",
    "# 배치할 위치 계산: 우측 하단에 맞추기\n",
    "start_y = height - dst_height\n",
    "start_x = width - dst_width\n",
    "\n",
    "# 이미지에 반전된 축소 이미지 배치\n",
    "img[start_y:start_y + dst_height, start_x:start_x + dst_width] = dst\n",
    "\n",
    "# 결과 이미지 보기\n",
    "cv2.imshow(\"original\", img)\n",
    "# cv2.imshow(\"dst\", dst)  # 반전된 이미지도 보기 원하면 이 줄 주석 해제\n",
    "\n",
    "cv2.waitKey(0)\n",
    "cv2.destroyAllWindows()\n",
    "\n"
   ]
  },
  {
   "cell_type": "code",
   "execution_count": 4,
   "metadata": {},
   "outputs": [],
   "source": [
    "img = cv2.imread(\"images/sana.jpg\")\n",
    "\n",
    "blue, green, red = cv2.split(img)\n",
    "\n",
    "cv2.imshow(\"blue\",blue)\n",
    "cv2.imshow(\"green\",green)\n",
    "cv2.imshow(\"red\",red)\n",
    "merged_image = cv2.merge([blue,green,red])\n",
    "cv2.imshow(\"merged\",merged_image)\n",
    "\n",
    "cv2.waitKey()\n",
    "cv2.destroyAllWindows()"
   ]
  },
  {
   "cell_type": "markdown",
   "metadata": {},
   "source": [
    "## 5-4. 이미지 색상 변경"
   ]
  },
  {
   "cell_type": "code",
   "execution_count": 15,
   "metadata": {},
   "outputs": [],
   "source": [
    "img = cv2.imread(\"images/sana.jpg\")\n",
    "gray = cv2.cvtColor(img, cv2.COLOR_BGR2GRAY)\n",
    "inverted = 255 - gray\n",
    "\n",
    "cv2.imshow(\"gray\",gray)\n",
    "cv2.imshow(\"rgb\",inverted)\n",
    "\n",
    "cv2.waitKey()\n",
    "cv2.destroyAllWindows()"
   ]
  },
  {
   "cell_type": "markdown",
   "metadata": {},
   "source": [
    "### 5-5. 이미지 흐리기(gaussianBlur)"
   ]
  },
  {
   "cell_type": "code",
   "execution_count": 20,
   "metadata": {},
   "outputs": [],
   "source": [
    "img = cv2.imread(\"images/sana.jpg\")\n",
    "\n",
    "# 커널을 사용하는 방식\n",
    "# (3,3) (5,5) (7,7)을 주로 사용  \n",
    "# 더 큰 범위를 사용할 수록 더 흐릿해짐.\n",
    "# 표준편차가 커질수록 블러의 범위가 커진다.\n",
    "\n",
    "kernel_3 = cv2.GaussianBlur(img, (3,3), 0)\n",
    "kernel_5 = cv2.GaussianBlur(img, (5,5), 0)\n",
    "kernel_7 = cv2.GaussianBlur(img, (7,7), 0)\n",
    "\n",
    "cv2.imshow(\"kernel_3\",kernel_3)\n",
    "cv2.imshow(\"kernel_5\",kernel_5)\n",
    "cv2.imshow(\"kernel_7\",kernel_7)\n",
    "\n",
    "cv2.waitKey()\n",
    "cv2.destroyAllWindows()\n"
   ]
  },
  {
   "cell_type": "markdown",
   "metadata": {},
   "source": [
    "### 5-6. 이미지 회전\n",
    "- rotateCode\n",
    "    - 'cv2.ROTATE_90_CLOCKWISE' : 시계 방향 90도 회전\n",
    "    - 'cv2.ROTATE_180' : 시계 방향 90도 회전\n",
    "    - 'cv2.ROTATE_90_Counterclockwise' : 시계 방향 90도 회전\n"
   ]
  },
  {
   "cell_type": "code",
   "execution_count": 22,
   "metadata": {},
   "outputs": [],
   "source": [
    "img = cv2.imread(\"images/sana.jpg\")\n",
    "\n",
    "dst_90 = cv2.rotate(img, cv2.ROTATE_90_CLOCKWISE)\n",
    "dst_180 = cv2.rotate(img, cv2.ROTATE_180)\n",
    "dst_ = cv2.rotate(img, cv2.ROTATE_90_COUNTERCLOCKWISE)\n",
    "\n",
    "cv2.imshow(\"dst_90\",dst_90)\n",
    "cv2.imshow(\"dst_180\",dst_180)\n",
    "cv2.imshow(\"dst_\",dst_)\n",
    "\n",
    "cv2.waitKey()\n",
    "cv2.destroyAllWindows()"
   ]
  },
  {
   "cell_type": "code",
   "execution_count": 29,
   "metadata": {},
   "outputs": [],
   "source": [
    "#affine 변환 사용\n",
    "img = cv2.imread(DOG_PATH)\n",
    "center = (img.shape[1]/2,img.shape[0]/2)\n",
    "affine = cv2.getRotationMatrix2D(center, -45, 2)  # 양수일 떄, 반시계 방향, 음수일 떄 시계 방향향\n",
    "dst = cv2.warpAffine(img, affine, (img.shape[1],img.shape[0]))\n",
    "\n",
    "cv2.imshow(\"original\",img)\n",
    "cv2.imshow(\"Rotate\", dst)\n",
    "\n",
    "cv2.waitKey()\n",
    "cv2.destroyAllWindows()"
   ]
  },
  {
   "cell_type": "code",
   "execution_count": null,
   "metadata": {},
   "outputs": [],
   "source": [
    "# import math\n",
    "\n",
    "# img = cv2.imread(DOG_PATH)\n",
    "\n",
    "# affine = np.array([[math.cos(rad),-math.sin(rad)I]])"
   ]
  }
 ],
 "metadata": {
  "kernelspec": {
   "display_name": "my_cv",
   "language": "python",
   "name": "python3"
  },
  "language_info": {
   "codemirror_mode": {
    "name": "ipython",
    "version": 3
   },
   "file_extension": ".py",
   "mimetype": "text/x-python",
   "name": "python",
   "nbconvert_exporter": "python",
   "pygments_lexer": "ipython3",
   "version": "3.12.7"
  }
 },
 "nbformat": 4,
 "nbformat_minor": 2
}
