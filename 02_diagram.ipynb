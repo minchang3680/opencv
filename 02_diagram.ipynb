{
 "cells": [
  {
   "cell_type": "markdown",
   "metadata": {},
   "source": [
    "## 03. 도형 그리기"
   ]
  },
  {
   "cell_type": "code",
   "execution_count": 35,
   "metadata": {},
   "outputs": [],
   "source": [
    "import cv2\n",
    "import numpy as np"
   ]
  },
  {
   "cell_type": "markdown",
   "metadata": {},
   "source": [
    "### 3-1. 빈 화면 만들기"
   ]
  },
  {
   "cell_type": "code",
   "execution_count": 7,
   "metadata": {},
   "outputs": [],
   "source": [
    "img = np.zeros((460, 640, 3),dtype = np.uint8) \n",
    "# img[:] = (255,255,255)  # 흰색으로 변경\n",
    "# int, uint 인트는 -가 포함 되어있다. int의 경우 rgb -128 ~ 128까지의 값을 가질수 있다. \n",
    "# uint의 경우우 rgb가 1 ~ 256까지 가질수 있다.\n",
    "cv2.imshow(\"blank\",img)\n",
    "cv2.waitKey(0)\n",
    "cv2.destroyAllWindows()"
   ]
  },
  {
   "cell_type": "markdown",
   "metadata": {},
   "source": [
    "### 3-2. 일부 영역 색칠"
   ]
  },
  {
   "cell_type": "code",
   "execution_count": 32,
   "metadata": {},
   "outputs": [],
   "source": [
    "img = np.zeros((460, 640, 3),dtype = np.uint8) \n",
    "img[100:400,300:700] = (255,255,255)  # 아직 좌표라는 것에 대해 감이 부족하다.\n",
    "cv2.imshow(\"blank\",img)\n",
    "cv2.waitKey(0)\n",
    "cv2.destroyAllWindows()"
   ]
  },
  {
   "cell_type": "markdown",
   "metadata": {},
   "source": [
    "### 3-3. 선 그리기"
   ]
  },
  {
   "cell_type": "code",
   "execution_count": 65,
   "metadata": {},
   "outputs": [],
   "source": [
    "img = np.zeros((460, 640, 3),dtype = np.uint8) \n",
    "cv2.line(img, (50,100), (400,50), (255,255,255), 5, cv2.LINE_4)  # 내가 찍은 점을 기준으로 상하좌우\n",
    "cv2.line(img, (50,200), (400,150), (255,255,255), 5, cv2.LINE_8)  # 기본값, line 4에서 대각선을 포함한 8방향\n",
    "cv2.line(img, (50,300), (400,250), (255,255,255), 5, cv2.LINE_AA) # line 8에서 약간의 외각에 색상처리를 해 부드러운 외각선으로 보이게함\n",
    "cv2.imshow(\"Line\",img)\n",
    "cv2.waitKey(0)\n",
    "cv2.destroyAllWindows()"
   ]
  },
  {
   "cell_type": "markdown",
   "metadata": {},
   "source": [
    "### 3-4. 원 그리기"
   ]
  },
  {
   "cell_type": "code",
   "execution_count": 43,
   "metadata": {},
   "outputs": [],
   "source": [
    "img = np.zeros((460, 640, 3),dtype = np.uint8)\n",
    "\n",
    "RADIUS = 50\n",
    "COLOR = (0,255,0)\n",
    "THICKNESS = 10\n",
    "\n",
    "cv2.circle(img, (200,230), RADIUS, COLOR, THICKNESS, cv2.LINE_AA)\n",
    "\n",
    "cv2.circle(img,(400,230),RADIUS,COLOR,cv2.FILLED, cv2.LINE_AA)\n",
    "\n",
    "cv2.imshow(\"circle0\",img)\n",
    "cv2.waitKey(0)\n",
    "cv2.destroyAllWindows()"
   ]
  },
  {
   "cell_type": "code",
   "execution_count": 52,
   "metadata": {},
   "outputs": [],
   "source": [
    "img = np.zeros((460, 640, 3),dtype = np.uint8)\n",
    "\n",
    "cv2.ellipse(img, (300,200), (100,50), 30, 0, 270, (0,0,255), 5, cv2.LINE_AA)\n",
    "# 돌리거나, 일부의 타원만 표현한다거나 할 수 있다.\n",
    "cv2.imshow('ellipse',img)\n",
    "cv2.waitKey(0)\n",
    "cv2.destroyAllWindows()"
   ]
  },
  {
   "cell_type": "markdown",
   "metadata": {},
   "source": [
    "### 3-6. 사각형 그리기"
   ]
  },
  {
   "cell_type": "code",
   "execution_count": 58,
   "metadata": {},
   "outputs": [],
   "source": [
    "img = np.zeros((460, 640, 3),dtype = np.uint8)\n",
    "# 좌표가 왼쪽 상단에서 오른쪽 하단으로 설정.\n",
    "cv2.rectangle(img, (50,50), (250,250), (255,255,0), 10, cv2.LINE_AA)\n",
    "\n",
    "cv2.rectangle(img, (350,50), (550,250), (255,255,0), cv2.FILLED, cv2.LINE_AA)\n",
    "\n",
    "cv2.imshow(\"rectangle\",img)\n",
    "cv2.waitKey(0)\n",
    "cv2.destroyAllWindows()"
   ]
  },
  {
   "cell_type": "markdown",
   "metadata": {},
   "source": [
    "### 3-7. 다각형(선)"
   ]
  },
  {
   "cell_type": "code",
   "execution_count": 61,
   "metadata": {},
   "outputs": [],
   "source": [
    "img = np.zeros((460, 640, 3),dtype = np.uint8)\n",
    "\n",
    "pts = np.array([[100,100],[200,100],[100,200]])\n",
    "\n",
    "cv2.polylines(img, [pts], True, (255,0,255), 5)  #False를 하면 삼각형의 마지막 선을 연결을 안해 닫지 않는다.\n",
    "cv2.imshow(\"polylines\", img)\n",
    "cv2.waitKey(0)\n",
    "cv2.destroyAllWindows()\n"
   ]
  },
  {
   "cell_type": "markdown",
   "metadata": {},
   "source": [
    "### 3-8. 다각형(채우기)\n",
    "- 닫는 여부 필요 x, 선 두께 필요 x"
   ]
  },
  {
   "cell_type": "code",
   "execution_count": 85,
   "metadata": {},
   "outputs": [],
   "source": [
    "img = np.zeros((460, 640, 3),dtype = np.uint8)\n",
    "\n",
    "pts = np.array([[[100,100],[200,100],[100,200]]])\n",
    "\n",
    "cv2.fillPoly(img, pts, (255,0,255))  #False를 하면 삼각형의 마지막 선을 연결을 안해 닫지 않는다.\n",
    "cv2.imshow(\"polylines\", img)\n",
    "cv2.waitKey(0)\n",
    "cv2.destroyAllWindows()"
   ]
  },
  {
   "cell_type": "code",
   "execution_count": 104,
   "metadata": {},
   "outputs": [],
   "source": [
    "img = np.zeros((460,640,3),dtype = np.uint8)\n",
    "cv2.line(img, (50,100), (150,100), (255,255,255), 3, cv2.LINE_AA)\n",
    "cv2.circle(img, (300, 300), 70, (222,222,0), 10, cv2.LINE_4)\n",
    "cv2.circle(img, (300,300), 50, (0,255,0), cv2.FILLED, cv2.LINE_AA)\n",
    "cv2.rectangle(img, (100,100), (400,400), (255,0,0), 3, cv2.LINE_AA)\n",
    "cv2.rectangle(img, (100,100), (300,300), (255,255,255), cv2.FILLED, cv2.LINE_AA)\n",
    "cv2.ellipse(img, (200,300), (100,50), 30, 0, 360, (0,255,255), 10, cv2.LINE_AA)\n",
    "cv2.ellipse(img, (200,300), (100,50), 30, 0, 270, (0,0,255), 5, cv2.LINE_AA)\n",
    "\n",
    "cv2.imshow(\"line\",img)\n",
    "cv2.waitKey(0)\n",
    "cv2.destroyAllWindows()"
   ]
  },
  {
   "cell_type": "markdown",
   "metadata": {},
   "source": []
  },
  {
   "cell_type": "code",
   "execution_count": null,
   "metadata": {},
   "outputs": [],
   "source": []
  }
 ],
 "metadata": {
  "kernelspec": {
   "display_name": "my_cv",
   "language": "python",
   "name": "python3"
  },
  "language_info": {
   "codemirror_mode": {
    "name": "ipython",
    "version": 3
   },
   "file_extension": ".py",
   "mimetype": "text/x-python",
   "name": "python",
   "nbconvert_exporter": "python",
   "pygments_lexer": "ipython3",
   "version": "3.12.7"
  }
 },
 "nbformat": 4,
 "nbformat_minor": 2
}
