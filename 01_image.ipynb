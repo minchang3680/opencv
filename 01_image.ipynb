{
 "cells": [
  {
   "cell_type": "markdown",
   "metadata": {},
   "source": [
    "## 01. 이미지 출력"
   ]
  },
  {
   "cell_type": "code",
   "execution_count": 1,
   "metadata": {},
   "outputs": [],
   "source": [
    "import cv2"
   ]
  },
  {
   "cell_type": "code",
   "execution_count": 2,
   "metadata": {},
   "outputs": [
    {
     "name": "stdout",
     "output_type": "stream",
     "text": [
      "[[[ 81  85  90]\n",
      "  [ 81  85  90]\n",
      "  [ 77  83  90]\n",
      "  ...\n",
      "  [ 74 113 157]\n",
      "  [ 74 113 157]\n",
      "  [ 73 112 156]]\n",
      "\n",
      " [[ 81  85  90]\n",
      "  [ 81  85  90]\n",
      "  [ 77  83  90]\n",
      "  ...\n",
      "  [ 71 110 154]\n",
      "  [ 70 109 153]\n",
      "  [ 69 108 152]]\n",
      "\n",
      " [[ 81  85  90]\n",
      "  [ 81  85  90]\n",
      "  [ 77  83  90]\n",
      "  ...\n",
      "  [ 66 105 149]\n",
      "  [ 65 104 148]\n",
      "  [ 65 104 148]]\n",
      "\n",
      " ...\n",
      "\n",
      " [[163 189 206]\n",
      "  [163 189 206]\n",
      "  [163 189 206]\n",
      "  ...\n",
      "  [170 191 206]\n",
      "  [170 191 206]\n",
      "  [170 191 206]]\n",
      "\n",
      " [[163 189 206]\n",
      "  [163 189 206]\n",
      "  [163 189 206]\n",
      "  ...\n",
      "  [170 191 206]\n",
      "  [170 191 206]\n",
      "  [170 191 206]]\n",
      "\n",
      " [[163 189 206]\n",
      "  [163 189 206]\n",
      "  [163 189 206]\n",
      "  ...\n",
      "  [170 191 206]\n",
      "  [170 191 206]\n",
      "  [170 191 206]]]\n"
     ]
    }
   ],
   "source": [
    "img = cv2.imread(\"./images/dog.jpg\")  #한글 파일의 경로를 읽지 못해서 고래 -> we로 파일 명을 바꾸니까 해결이 되었다.\n",
    "print(img) # 또한 ./를 꼭 붙여야 한다."
   ]
  },
  {
   "cell_type": "code",
   "execution_count": 7,
   "metadata": {},
   "outputs": [
    {
     "name": "stdout",
     "output_type": "stream",
     "text": [
      "101\n"
     ]
    }
   ],
   "source": [
    "cv2.imshow(\"Image\",img)\n",
    "key = cv2.waitKey(0) # 무한대기 -> 입력한 숫자 만큼 나오다가 사라짐.\n",
    "print(key) # 내가 입력한 키에 해당하는 아스키 코드를 알려준다. , 키 입력이 없다면 -1을 반환환\n",
    "cv2.destroyAllWindows()"
   ]
  },
  {
   "cell_type": "markdown",
   "metadata": {},
   "source": [
    "### 1-2. 이미지 불러오기 옵션\n",
    "- 'cv2.IMREAD_COLOR' : 이미지를 컬러로, 기본옵션,\n",
    "투명 배경 무시\n",
    "- 'CV2.IMREAD_GRAYSCALE' : 이미지를 흑백으로\n",
    "- 'CV.IMREAD_UNCHANGED' : 이미지 컬러, 투명배경 인식\n",
    "    - 이미지를 불러올 떄 ALPHA값을 같이 불러옴"
   ]
  },
  {
   "cell_type": "code",
   "execution_count": 11,
   "metadata": {},
   "outputs": [],
   "source": [
    "img_defult = cv2.imread(\"./images/dog.jpg\", cv2.IMREAD_COLOR)\n",
    "img_gray = cv2.imread(\"./images/dog.jpg\",cv2.IMREAD_GRAYSCALE)\n",
    "img_unchanged = cv2.imread(\"./images/dog.jpg\",cv2.IMREAD_UNCHANGED)\n",
    "\n",
    "cv2.imshow(\"Image default\",img_defult)\n",
    "cv2.imshow(\"Image gray\",img_gray)\n",
    "cv2.imshow(\"Image unchanged\", img_unchanged)\n",
    "\n",
    "cv2.waitKey(0)\n",
    "cv2.destroyAllWindows()\n"
   ]
  },
  {
   "cell_type": "markdown",
   "metadata": {},
   "source": [
    "### 1-3. 이미지 shape"
   ]
  },
  {
   "cell_type": "code",
   "execution_count": 13,
   "metadata": {},
   "outputs": [
    {
     "name": "stdout",
     "output_type": "stream",
     "text": [
      "428 639 3\n"
     ]
    }
   ],
   "source": [
    "img_defult = cv2.imread(\"./images/dog.jpg\", cv2.IMREAD_COLOR)\n",
    "img_gray = cv2.imread(\"./images/dog.jpg\",cv2.IMREAD_GRAYSCALE)\n",
    "img_unchanged = cv2.imread(\"./images/dog.jpg\",cv2.IMREAD_UNCHANGED)\n",
    "# unchanged의 경우 = RGB + Alpha까지 4개의 채널을 불러옴 (투명배경인 경우)\n",
    "# 그레이의 경우 = 채널의 값이 나오지 않음 rgb가 없기 떄문\n",
    "\n",
    "height, weight,channel = img_unchanged.shape\n",
    "print(height,weight,channel) #channel"
   ]
  },
  {
   "cell_type": "code",
   "execution_count": 14,
   "metadata": {},
   "outputs": [],
   "source": [
    "img = cv2.imread(\"./images/dog.jpg\")\n",
    "cv2.imshow(\"img\",img)\n",
    "key = cv2.waitKey(0)\n",
    "if key == ord('q'):\n",
    "    cv2.destroyAllWindows()"
   ]
  },
  {
   "cell_type": "code",
   "execution_count": 15,
   "metadata": {},
   "outputs": [
    {
     "data": {
      "text/plain": [
       "True"
      ]
     },
     "execution_count": 15,
     "metadata": {},
     "output_type": "execute_result"
    }
   ],
   "source": [
    "# img = cv2.imread(\"./images/dog.jpg\")\n",
    "# cv2.imwrite(\"output/new_dog.jpg\",img)\n",
    "gray = cv2.imread(\"./images/dog.jpg\",cv2.IMREAD_GRAYSCALE)\n",
    "cv2.imwrite(\"./images/graydog.jpg\",gray)"
   ]
  },
  {
   "cell_type": "markdown",
   "metadata": {},
   "source": [
    "## 02. 비디오 입출력"
   ]
  },
  {
   "cell_type": "markdown",
   "metadata": {},
   "source": [
    "### 2-1. 비디오 파일 입출력\n",
    "- 비디오의 재생 : 연속된 이미지를 재생하는 것\n",
    "- 프레임 : 연속된 이미지 중 하나\n",
    "- 비디오를 재생하기 위해서는 프레임을 연속적으로 재생\n",
    "- 'cv2.VideoCapture(\"파일경로\")' : 경로의 파일을 불러옴\n",
    "- 'VidecoCapture.isOpened()' : 파일이 열렸는지 확인\n",
    "- 'VideoCapture.read()' : 파일을 읽어서 frame을 반환\n",
    "    - ret : 프레임이 있는지 체크 , frame : 불러온 이미지\n",
    "- 'VideoCapture.release() :비디오 파일 또는 카메라 장치와의 연결을 끊습니다."
   ]
  },
  {
   "cell_type": "code",
   "execution_count": 19,
   "metadata": {},
   "outputs": [],
   "source": [
    "import cv2\n",
    "waa = \"./videos/wa.mp4\"\n",
    "# cv2.imshow(waa)\n",
    "# cv2.waitKey(3)"
   ]
  },
  {
   "cell_type": "code",
   "execution_count": 21,
   "metadata": {},
   "outputs": [],
   "source": [
    "cap = cv2.VideoCapture(waa)\n",
    "# print(cap.isOpened())\n",
    "\n",
    "while cap.isOpened():\n",
    "    ret, frame = cap.read()\n",
    "\n",
    "    if not ret:\n",
    "        break\n",
    "\n",
    "    cv2.imshow(\"Video\",frame)\n",
    "\n",
    "    if cv2.waitKey(1) == ord('q'):\n",
    "        break\n",
    "    \n",
    "cap.release()\n",
    "cv2.destroyAllWindows() # while문안에 release()와 destroyAllwindows()가 있으면안된다."
   ]
  },
  {
   "cell_type": "markdown",
   "metadata": {},
   "source": [
    "### 2-2. 영상의 프레임 불러오기\n",
    "- 'VidecCapture.get(cv2.CAP_PROP_FPS)'"
   ]
  },
  {
   "cell_type": "code",
   "execution_count": 27,
   "metadata": {},
   "outputs": [
    {
     "name": "stdout",
     "output_type": "stream",
     "text": [
      "29.97002997002997\n"
     ]
    }
   ],
   "source": [
    "cap = cv2.VideoCapture(waa)\n",
    "fps = cap.get(cv2.CAP_PROP_FPS)\n",
    "\n",
    "while cap.isOpened():\n",
    "    ret, frame = cap.read()\n",
    "\n",
    "    if not ret :\n",
    "        break\n",
    "    \n",
    "    cv2.imshow(\"video\",frame)\n",
    "\n",
    "    if cv2.waitKey(int(1000/fps)) == ord(\"q\"):\n",
    "        break\n",
    "\n",
    "cap.release()\n",
    "cv2.destroyAllWindows()"
   ]
  },
  {
   "cell_type": "markdown",
   "metadata": {},
   "source": [
    "### 2-3. 카메라 입출력"
   ]
  },
  {
   "cell_type": "code",
   "execution_count": null,
   "metadata": {},
   "outputs": [],
   "source": [
    "cap = cv2.VideoCapture(0)\n",
    "\n",
    "if not cap.isOpened():\n",
    "    exit()\n",
    "\n",
    "while True:\n",
    "    ret, frame = cap.read()\n",
    "    \n",
    "    if not ret:\n",
    "        break\n",
    "    \n",
    "    cv2.imshow(\"Camera\",frame)\n",
    "\n",
    "    if cv2.waitKey(1) == ord(\"q\"):\n",
    "        break\n",
    "\n",
    "cap.release()\n",
    "cv2.destroyAllWindows()  #destroyAllWindows()에 오타가 나서, 문제가 생겼었네. Winodw라 써야하는데 window라고 썼다."
   ]
  },
  {
   "cell_type": "markdown",
   "metadata": {},
   "source": [
    "### 2-4. 비디오 쓰기\n",
    "- 'cv2.VideoWriter() : 영상을 쓰기\n"
   ]
  },
  {
   "cell_type": "code",
   "execution_count": 17,
   "metadata": {},
   "outputs": [
    {
     "ename": "NameError",
     "evalue": "name 'waa' is not defined",
     "output_type": "error",
     "traceback": [
      "\u001b[1;31m---------------------------------------------------------------------------\u001b[0m",
      "\u001b[1;31mNameError\u001b[0m                                 Traceback (most recent call last)",
      "Cell \u001b[1;32mIn[17], line 1\u001b[0m\n\u001b[1;32m----> 1\u001b[0m cap \u001b[38;5;241m=\u001b[39m cv2\u001b[38;5;241m.\u001b[39mVideoCapture(\u001b[43mwaa\u001b[49m)\n\u001b[0;32m      2\u001b[0m forucc \u001b[38;5;241m=\u001b[39m cv2\u001b[38;5;241m.\u001b[39mVideoWriter_fourcc(\u001b[38;5;241m*\u001b[39m\u001b[38;5;124m\"\u001b[39m\u001b[38;5;124mH264\u001b[39m\u001b[38;5;124m\"\u001b[39m)\n\u001b[0;32m      3\u001b[0m fps \u001b[38;5;241m=\u001b[39m cap\u001b[38;5;241m.\u001b[39mget(cv2\u001b[38;5;241m.\u001b[39mCAP_PROP_FPS)\n",
      "\u001b[1;31mNameError\u001b[0m: name 'waa' is not defined"
     ]
    }
   ],
   "source": [
    "cap = cv2.VideoCapture(waa)\n",
    "forucc = cv2.VideoWriter_fourcc(*\"H264\")\n",
    "fps = cap.get(cv2.CAP_PROP_FPS)\n",
    "width = round(cap.get(cv2.CAP_PROP_FRAME_WIDTH))\n",
    "height = round(cap.get(cv2.CAP_PROP_FRAME_HEIGHT))\n",
    "out = cv2.VideoWriter(\"./output/wa.mp4\",forucc, fps,(width, height)) # forucc 영상 코덱\n",
    "\n",
    "while cap.isOpened():\n",
    "    ret, frame = cap.read()\n",
    "\n",
    "    if not ret:\n",
    "        break\n",
    "    \n",
    "    out.write(frame)  # 소리는 들어가지 않음\n",
    "    cv2.imshow(\"Video\",frame)\n",
    "\n",
    "    if cv2.waitKey(int(1000/fps)) == ord('q'):\n",
    "        break\n",
    "\n",
    "out.release()\n",
    "cap.release()\n",
    "cv2.destroyAllWindows()\n",
    "\n",
    "\n"
   ]
  },
  {
   "cell_type": "code",
   "execution_count": 16,
   "metadata": {},
   "outputs": [],
   "source": [
    "import cv2\n",
    "cap = cv2.VideoCapture(0)\n",
    "if not cap.isOpened:\n",
    "    exit()\n",
    "while True :\n",
    "    ret , frame = cap.read()\n",
    "\n",
    "    if not ret:\n",
    "        break\n",
    "    cv2.imshow(\"camera\",frame)\n",
    "\n",
    "    if cv2.waitKey(1) == ord(\"q\"):\n",
    "        cv2.imwrite(\"./output/camera.png\",frame)\n",
    "        break\n",
    "\n",
    "cap.release()\n",
    "cv2.destroyAllWindows()"
   ]
  },
  {
   "cell_type": "code",
   "execution_count": 1,
   "metadata": {},
   "outputs": [
    {
     "name": "stdout",
     "output_type": "stream",
     "text": [
      "d i v x\n"
     ]
    }
   ],
   "source": [
    "print(*\"divx\") # *을 붙이면, 이런식으로 구분해서 써진다."
   ]
  },
  {
   "cell_type": "code",
   "execution_count": 7,
   "metadata": {},
   "outputs": [],
   "source": [
    "import cv2\n",
    "img = cv2.imread('./images/dog.jpg',IMREAD_GRAYSCALE)\n",
    "cv2.imshow(\"img\",img)\n",
    "cv2.waitKey(0)\n",
    "cv2.destroyAllWindows()"
   ]
  },
  {
   "cell_type": "code",
   "execution_count": 9,
   "metadata": {},
   "outputs": [
    {
     "data": {
      "text/plain": [
       "(428, 639, 3)"
      ]
     },
     "execution_count": 9,
     "metadata": {},
     "output_type": "execute_result"
    }
   ],
   "source": [
    "img.shape # open cv의 경우 색이 [0,0,0]이면 [g b r] 형태로 들어가 있다."
   ]
  },
  {
   "cell_type": "code",
   "execution_count": 12,
   "metadata": {},
   "outputs": [
    {
     "data": {
      "text/plain": [
       "True"
      ]
     },
     "execution_count": 12,
     "metadata": {},
     "output_type": "execute_result"
    }
   ],
   "source": [
    "cv2.imwrite(\"output/GRAY.jpg\",img)"
   ]
  },
  {
   "cell_type": "code",
   "execution_count": 13,
   "metadata": {},
   "outputs": [],
   "source": [
    "cap = cv2.VideoCapture(\"videos/wa.mp4\")\n",
    "fps = cap.get(cv2.CAP_PROP_FPS)\n",
    "\n",
    "while cap.isOpened():\n",
    "    ret, frame = cap.read()\n",
    "\n",
    "    if not ret:\n",
    "        break\n",
    "\n",
    "    cv2.imshow(\"video\",frame)\n",
    "\n",
    "    if cv2.waitKey(int(1000/fps)) == ord('q'):\n",
    "        break\n",
    "\n",
    "cap.release()\n",
    "cv2.destroyAllWindows()"
   ]
  },
  {
   "cell_type": "code",
   "execution_count": 15,
   "metadata": {},
   "outputs": [],
   "source": [
    "cap = cv2.VideoCapture(0)\n",
    "\n",
    "if not cap.isOpened():\n",
    "    exit()\n",
    "\n",
    "while True:\n",
    "    ret , frame = cap.read()\n",
    "\n",
    "    if not ret:\n",
    "        break\n",
    "\n",
    "    cv2.imshow(\"camera\",frame)\n",
    "\n",
    "    if cv2.waitKey() == ord('q'):\n",
    "        break\n",
    "\n",
    "cap.release()\n",
    "cv2.destroyAllWindows()"
   ]
  },
  {
   "cell_type": "code",
   "execution_count": 14,
   "metadata": {},
   "outputs": [
    {
     "ename": "AttributeError",
     "evalue": "module 'cv2' has no attribute 'CAP_PROP_WIDTH'",
     "output_type": "error",
     "traceback": [
      "\u001b[1;31m---------------------------------------------------------------------------\u001b[0m",
      "\u001b[1;31mAttributeError\u001b[0m                            Traceback (most recent call last)",
      "Cell \u001b[1;32mIn[14], line 3\u001b[0m\n\u001b[0;32m      1\u001b[0m cap \u001b[38;5;241m=\u001b[39m cv2\u001b[38;5;241m.\u001b[39mVideoCapture(\u001b[38;5;124m\"\u001b[39m\u001b[38;5;124mvideos/wa.mp4\u001b[39m\u001b[38;5;124m\"\u001b[39m)\n\u001b[0;32m      2\u001b[0m fourcc \u001b[38;5;241m=\u001b[39m cv2\u001b[38;5;241m.\u001b[39mVideoWriter_fourcc(\u001b[38;5;241m*\u001b[39m\u001b[38;5;124m\"\u001b[39m\u001b[38;5;124mH264\u001b[39m\u001b[38;5;124m\"\u001b[39m)\n\u001b[1;32m----> 3\u001b[0m width \u001b[38;5;241m=\u001b[39m cap\u001b[38;5;241m.\u001b[39mget(\u001b[43mcv2\u001b[49m\u001b[38;5;241;43m.\u001b[39;49m\u001b[43mCAP_PROP_WIDTH\u001b[49m)\n\u001b[0;32m      4\u001b[0m height \u001b[38;5;241m=\u001b[39m cap\u001b[38;5;241m.\u001b[39mget(cv2\u001b[38;5;241m.\u001b[39mCAP_PROP_HEIGHT)\n\u001b[0;32m      5\u001b[0m fps \u001b[38;5;241m=\u001b[39m cap\u001b[38;5;241m.\u001b[39mget(cv2\u001b[38;5;241m.\u001b[39mCAP_PROP_FPS)\n",
      "\u001b[1;31mAttributeError\u001b[0m: module 'cv2' has no attribute 'CAP_PROP_WIDTH'"
     ]
    }
   ],
   "source": [
    "cap = cv2.VideoCapture(\"videos/wa.mp4\")\n",
    "fourcc = cv2.VideoWriter_fourcc(*\"H264\")\n",
    "width = cap.get(cv2.CAP_PROP_WIDTH)\n",
    "height = cap.get(cv2.CAP_PROP_HEIGHT)\n",
    "fps = cap.get(cv2.CAP_PROP_FPS)\n",
    "out = cv2.VideoWriter(\"output/newvideo.mp4\",fourcc,fps,(width,height))\n",
    "\n",
    "while cap.isOpened():\n",
    "    ret, frame = cap.read()\n",
    "\n",
    "    if not ret:\n",
    "        break\n",
    "\n",
    "    out.write(frame)\n",
    "    cv2.imshow(\"video\",frame)\n",
    "\n",
    "    if cv2.waitKey(int(1000/fps)) == ord('q'):\n",
    "        break\n",
    "out.release()\n",
    "cap.release()\n",
    "cv2.destroyAllWindows()"
   ]
  },
  {
   "cell_type": "code",
   "execution_count": null,
   "metadata": {},
   "outputs": [],
   "source": []
  }
 ],
 "metadata": {
  "kernelspec": {
   "display_name": "my_cv",
   "language": "python",
   "name": "python3"
  },
  "language_info": {
   "codemirror_mode": {
    "name": "ipython",
    "version": 3
   },
   "file_extension": ".py",
   "mimetype": "text/x-python",
   "name": "python",
   "nbconvert_exporter": "python",
   "pygments_lexer": "ipython3",
   "version": "3.12.7"
  }
 },
 "nbformat": 4,
 "nbformat_minor": 2
}
