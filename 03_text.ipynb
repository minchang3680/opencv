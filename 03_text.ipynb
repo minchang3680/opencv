{
 "cells": [
  {
   "cell_type": "markdown",
   "metadata": {},
   "source": [
    "### 4-1 텍스트 기본(영어)\n",
    "- 한글 입력 지원 x"
   ]
  },
  {
   "cell_type": "code",
   "execution_count": 1,
   "metadata": {},
   "outputs": [],
   "source": [
    "import numpy as np\n",
    "import cv2"
   ]
  },
  {
   "cell_type": "code",
   "execution_count": 10,
   "metadata": {},
   "outputs": [],
   "source": [
    "img = np.zeros((460,640,3), dtype=np.uint8)\n",
    "\n",
    "SCALE = 1\n",
    "COLOR = (255,255,255)\n",
    "THICKNESS = 1\n",
    "\n",
    "cv2.putText(img, \"Hello World\", (100,100), cv2.FONT_HERSHEY_TRIPLEX, SCALE, COLOR, THICKNESS, cv2.LINE_AA)\n",
    "cv2.putText(img, \"Hello World\", (100,200), cv2.FONT_HERSHEY_SCRIPT_SIMPLEX, SCALE, COLOR, THICKNESS, cv2.LINE_AA)\n",
    "cv2.putText(img, \"Hello World\", (100,300), cv2.FONT_HERSHEY_PLAIN | cv2.FONT_ITALIC, 3, COLOR, THICKNESS, cv2.LINE_AA)\n",
    "cv2.imshow(\"text\",img)\n",
    "cv2.waitKey(0)\n",
    "cv2.destroyAllWindows()"
   ]
  },
  {
   "cell_type": "markdown",
   "metadata": {},
   "source": [
    "### 4-2. 한글 텍스트 입력"
   ]
  },
  {
   "cell_type": "code",
   "execution_count": 16,
   "metadata": {},
   "outputs": [],
   "source": [
    "from PIL import Image, ImageDraw, ImageFont\n",
    "\n",
    "img = np.zeros((460,640,3), dtype=np.uint8)\n",
    "\n",
    "def putKorText(img, text, pos, font_size, font_color):\n",
    "    img_pil = Image.fromarray(img)\n",
    "    draw = ImageDraw.Draw(img_pil)\n",
    "    font = ImageFont.truetype(\"fonts/gulim.ttc\",font_size)\n",
    "    draw.text(pos,text, font=font, fill=font_color)\n",
    "    return np.array(img_pil)\n",
    "\n",
    "text = putKorText(img, \"스팩7기파이팅\", (100,100), 30, (255,255,255))\n",
    "\n",
    "cv2.imshow(\"Korean text\",text)\n",
    "cv2.waitKey(0)\n",
    "cv2.destroyAllWindows()"
   ]
  },
  {
   "cell_type": "markdown",
   "metadata": {},
   "source": []
  },
  {
   "cell_type": "code",
   "execution_count": null,
   "metadata": {},
   "outputs": [],
   "source": []
  }
 ],
 "metadata": {
  "kernelspec": {
   "display_name": "my_cv",
   "language": "python",
   "name": "python3"
  },
  "language_info": {
   "codemirror_mode": {
    "name": "ipython",
    "version": 3
   },
   "file_extension": ".py",
   "mimetype": "text/x-python",
   "name": "python",
   "nbconvert_exporter": "python",
   "pygments_lexer": "ipython3",
   "version": "3.12.7"
  }
 },
 "nbformat": 4,
 "nbformat_minor": 2
}
