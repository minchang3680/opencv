{
 "cells": [
  {
   "cell_type": "markdown",
   "metadata": {},
   "source": [
    "## 6-1. 팽창\n",
    "- 흰색 영역을 확장하여 검은 영역을 채움"
   ]
  },
  {
   "cell_type": "code",
   "execution_count": 1,
   "metadata": {},
   "outputs": [],
   "source": [
    "import cv2\n",
    "import numpy as np\n",
    "\n",
    "DILATE = \"images/dilate.png\"\n",
    "ERODE = \"images/erode.png\""
   ]
  },
  {
   "cell_type": "markdown",
   "metadata": {},
   "source": [
    "### 6-1. 팽창\n",
    "- 흰색 영역을 확장하여 검은 영역을 채움"
   ]
  },
  {
   "cell_type": "code",
   "execution_count": 4,
   "metadata": {},
   "outputs": [],
   "source": [
    "img = cv2.imread(DILATE)\n",
    "\n",
    "kernel = np.ones((3,3), dtype = np.uint8)\n",
    "dilate_1 = cv2.dilate(img, kernel, iterations = 1)\n",
    "dilate_2 = cv2.dilate(img, kernel, iterations = 2)\n",
    "dilate_3 = cv2.dilate(img, kernel, iterations = 3)\n",
    "\n",
    "cv2.imshow(\"img\",img)\n",
    "cv2.imshow(\"deliate1\",dilate_1)\n",
    "cv2.imshow(\"deliate2\",dilate_2)\n",
    "cv2.imshow(\"deliate3\",dilate_3)\n",
    "\n",
    "cv2.waitKey(0)\n",
    "cv2.destroyAllWindows()"
   ]
  },
  {
   "cell_type": "markdown",
   "metadata": {},
   "source": [
    "### 6-2. 침식\n",
    "- 흰색 영역의 외곽을 검은색으로 변경"
   ]
  },
  {
   "cell_type": "code",
   "execution_count": 5,
   "metadata": {},
   "outputs": [],
   "source": [
    "img = cv2.imread(ERODE)\n",
    "\n",
    "kernel = np.ones((3,3), dtype = np.uint8)\n",
    "erode_1 = cv2.erode(img, kernel, iterations = 1)\n",
    "erode_2 = cv2.erode(img, kernel, iterations = 2)\n",
    "erode_3 = cv2.erode(img, kernel, iterations = 3)\n",
    "\n",
    "cv2.imshow(\"img\",img)\n",
    "cv2.imshow(\"deliate1\",erode_1)\n",
    "cv2.imshow(\"deliate2\",erode_2)\n",
    "cv2.imshow(\"deliate3\",erode_3)\n",
    "\n",
    "cv2.waitKey(0)\n",
    "cv2.destroyAllWindows()"
   ]
  },
  {
   "cell_type": "markdown",
   "metadata": {},
   "source": [
    "### 6-3. 열림\n",
    "- 침식 후 팽창"
   ]
  },
  {
   "cell_type": "code",
   "execution_count": 7,
   "metadata": {},
   "outputs": [],
   "source": [
    "img = cv2.imread(ERODE)\n",
    "kernel = np.ones((3,3), dtype = np.uint8)\n",
    "erode_3 = cv2.erode(img, kernel, iterations = 3)\n",
    "dilate_3 = cv2.dilate(erode_3, kernel, iterations = 3)\n",
    "\n",
    "cv2.imshow(\"img\",img)\n",
    "cv2.imshow(\"open\",dilate_3)\n",
    "cv2.waitKey(0)\n",
    "cv2.destroyAllWindows()\n"
   ]
  },
  {
   "cell_type": "markdown",
   "metadata": {},
   "source": [
    "### 6-4. 닫힘\n",
    "- 팽창 후 침식"
   ]
  },
  {
   "cell_type": "code",
   "execution_count": 10,
   "metadata": {},
   "outputs": [],
   "source": [
    "img = cv2.imread(DILATE)\n",
    "kernel = np.ones((3,3), dtype = np.uint8)\n",
    "dilate_3 = cv2.dilate(img, kernel, iterations = 3)\n",
    "erode_3 = cv2.erode(dilate_3, kernel, iterations = 3)\n",
    "\n",
    "cv2.imshow(\"img\",img)\n",
    "cv2.imshow(\"open\",erode_3)\n",
    "cv2.waitKey(0)\n",
    "cv2.destroyAllWindows()"
   ]
  },
  {
   "cell_type": "markdown",
   "metadata": {},
   "source": []
  },
  {
   "cell_type": "code",
   "execution_count": null,
   "metadata": {},
   "outputs": [],
   "source": []
  }
 ],
 "metadata": {
  "kernelspec": {
   "display_name": "my_cv",
   "language": "python",
   "name": "python3"
  },
  "language_info": {
   "codemirror_mode": {
    "name": "ipython",
    "version": 3
   },
   "file_extension": ".py",
   "mimetype": "text/x-python",
   "name": "python",
   "nbconvert_exporter": "python",
   "pygments_lexer": "ipython3",
   "version": "3.12.7"
  }
 },
 "nbformat": 4,
 "nbformat_minor": 2
}
