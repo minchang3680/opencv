{
 "cells": [
  {
   "cell_type": "markdown",
   "metadata": {},
   "source": [
    "## 09. 마우스 이벤트"
   ]
  },
  {
   "cell_type": "code",
   "execution_count": 10,
   "metadata": {},
   "outputs": [],
   "source": [
    "import cv2\n",
    "\n",
    "img = cv2.imread(\"images/dog.jpg\")\n",
    "name = \"Mouse_event\"\n",
    "cv2.namedWindow(name)\n",
    "\n",
    "def on_mouse(event, x, y, flags, _):\n",
    "    if event == cv2.EVENT_LBUTTONDOWN:\n",
    "        copied = img.copy() # 깊은 복사\n",
    "        cv2.circle(copied, (x,y), 7, (255,255,0), cv2.FILLED)\n",
    "        cv2.imshow(name, copied)\n",
    "\n",
    "cv2.setMouseCallback(name, on_mouse)\n",
    "cv2.imshow(name, img)\n",
    "cv2.waitKey(0)\n",
    "cv2.destroyAllWindows()"
   ]
  },
  {
   "cell_type": "markdown",
   "metadata": {},
   "source": [
    "미니 프로젝트\n",
    "반자동 문서 스캐너 만들기\n",
    "\n",
    "1. 이미지를 시계방향으로 클릭하면\n",
    "2. 이미지에 점이 찍히고\n",
    "3. 점과 점 사이에 라인이 연결됨\n",
    "    - 가능하면 라인이 마우스를 따라가도록 구현\n",
    "    \n",
    "4. 4개의 점을 찍으면 해당 영역이 펼쳐지도록 구현.\n"
   ]
  },
  {
   "cell_type": "code",
   "execution_count": 10,
   "metadata": {},
   "outputs": [
    {
     "name": "stdout",
     "output_type": "stream",
     "text": [
      "[]\n"
     ]
    }
   ],
   "source": [
    "import cv2\n",
    "import numpy as np\n",
    "\n",
    "img = cv2.imread(\"images/king.jpg\")\n",
    "name = \"Scanner\"\n",
    "cv2.namedWindow(name)\n",
    "width, height = 700, 400\n",
    "point_list = []\n",
    "\n",
    "\n",
    "def on_mouse(event, x, y, flags, _):\n",
    "    if event == cv2.EVENT_LBUTTONDOWN:\n",
    "        cv2.circle(img, (x,y), 7, (255,255,0), cv2.FILLED)\n",
    "        # cv2.line(img, point_list, (x,y), (255,255,0), 5, lineType=cv2.LINE_AA)\n",
    "        point_list.append((x, y))\n",
    "        cv2.imshow(name,img)\n",
    "\n",
    "# src = [point_list]\n",
    "print(point_list)\n",
    "# dst = np.array([[0,0], [0,width], [height, width], [height, 0]])\n",
    "# mat = cv2.getPerspectiveTransform(src, dst)\n",
    "# result = cv2.warpPerspective(img, mat, (width, height))\n",
    "# cv2.imshow(\"aa\", result)\n",
    "\n",
    "cv2.setMouseCallback(name, on_mouse)\n",
    "# cv2.imshow(name, img)\n",
    "\n",
    "cv2.waitKey(0)\n",
    "cv2.destroyAllWindows()"
   ]
  },
  {
   "cell_type": "code",
   "execution_count": 5,
   "metadata": {},
   "outputs": [
    {
     "name": "stdout",
     "output_type": "stream",
     "text": [
      "[(265, 288)]\n",
      "[(265, 288), (413, 344)]\n",
      "[(265, 288), (413, 344), (348, 570)]\n",
      "[(265, 288), (413, 344), (348, 570), (231, 525)]\n"
     ]
    }
   ],
   "source": [
    "import cv2\n",
    "import numpy as np\n",
    "\n",
    "img = cv2.imread(\"images/king.jpg\")\n",
    "name = \"Scanner\"\n",
    "cv2.namedWindow(name)\n",
    "width, height = 700, 400\n",
    "point_list = []\n",
    "\n",
    "\n",
    "def on_mouse(event, x, y, flags, _):\n",
    "    if event == cv2.EVENT_LBUTTONDOWN:\n",
    "        if len(point_list) < 4:\n",
    "            cv2.circle(img, (x,y), 7, (255,255,0), cv2.FILLED)\n",
    "            # cv2.line(img, point_list, (x,y), (255,255,0), 5, lineType=cv2.LINE_AA)\n",
    "            point_list.append((x, y))\n",
    "            print(point_list)\n",
    "            cv2.imshow(name,img)\n",
    "\n",
    "\n",
    "if len(point_list) == 4:\n",
    "    src = np.array(point_list, dtype=np.float32)\n",
    "    dst = np.array([[0,0], [0,width], [height, width], [height, 0]], dtype=np.float32)\n",
    "    mat = cv2.getPerspectiveTransform(src, dst)\n",
    "    result = cv2.warpPerspective(img, mat, (width, height))\n",
    "    cv2.imshow(\"aa\", result)\n",
    "\n",
    "cv2.setMouseCallback(name, on_mouse)\n",
    "# cv2.imshow(name, img)\n",
    "\n",
    "cv2.waitKey(0)\n",
    "cv2.destroyAllWindows()"
   ]
  },
  {
   "cell_type": "code",
   "execution_count": 18,
   "metadata": {},
   "outputs": [],
   "source": [
    "import cv2\n",
    "import numpy as np\n",
    "\n",
    "img = cv2.imread(\"images/king.jpg\")\n",
    "point_list = []\n",
    "\n",
    "# 최종 결과를 출력하는 함수입니다\n",
    "def show_result():\n",
    "  width, height = 500, 700\n",
    "  src = np.array(point_list, dtype=np.float32)\n",
    "  # src = np.float32(point_list)\n",
    "  target = np.array([[0,0], [width, 0], [width, height], [0, height]], dtype=np.float32)\n",
    "  mat = cv2.getPerspectiveTransform(src, target)\n",
    "  result = cv2.warpPerspective(img, mat, (width, height))\n",
    "  cv2.imshow(\"result\", result)\n",
    "\n",
    "# 마우스 이벤트와 함께 실행되는 콜백함수입니다.\n",
    "drawing = False\n",
    "def on_mouse(event, x, y, flags, _):\n",
    "  global drawing\n",
    "  coppied = img.copy()\n",
    "  if event == cv2.EVENT_LBUTTONDOWN:\n",
    "    drawing = True\n",
    "    point_list.append((x,y))\n",
    "\n",
    "  if drawing:\n",
    "    prev_point = None\n",
    "    for point in point_list:\n",
    "      cv2.circle(coppied, point, 10, (0,0,255), cv2.FILLED)\n",
    "      if prev_point:\n",
    "        cv2.line(coppied, prev_point, point, (0,0,255), 5)\n",
    "      prev_point = point\n",
    "\n",
    "    next_point = (x,y)\n",
    "    if len(point_list) == 4:\n",
    "      next_point = point_list[0]\n",
    "      show_result()\n",
    "    cv2.line(coppied, point_list[-1], next_point, (0,0,255), 5)\n",
    "\n",
    "  cv2.imshow(name, coppied)\n",
    "\n",
    "# 기본적인 코드 실행입니다.\n",
    "name = \"Scanner\"\n",
    "cv2.namedWindow(name)\n",
    "cv2.setMouseCallback(name, on_mouse)\n",
    "cv2.imshow(name, img)\n",
    "cv2.waitKey(0)\n",
    "cv2.destroyAllWindows()"
   ]
  },
  {
   "cell_type": "code",
   "execution_count": 13,
   "metadata": {},
   "outputs": [],
   "source": []
  }
 ],
 "metadata": {
  "kernelspec": {
   "display_name": "my_cv",
   "language": "python",
   "name": "python3"
  },
  "language_info": {
   "codemirror_mode": {
    "name": "ipython",
    "version": 3
   },
   "file_extension": ".py",
   "mimetype": "text/x-python",
   "name": "python",
   "nbconvert_exporter": "python",
   "pygments_lexer": "ipython3",
   "version": "3.12.7"
  }
 },
 "nbformat": 4,
 "nbformat_minor": 2
}
