{
 "cells": [
  {
   "cell_type": "markdown",
   "metadata": {},
   "source": [
    "## 10. 히스토그램"
   ]
  },
  {
   "cell_type": "code",
   "execution_count": null,
   "metadata": {},
   "outputs": [],
   "source": [
    "\n",
    "pip install matplotlib"
   ]
  },
  {
   "cell_type": "code",
   "execution_count": null,
   "metadata": {},
   "outputs": [],
   "source": [
    "import cv2\n",
    "import matplotlib.pyplot as plt\n",
    "\n",
    "img = cv2.imread(\"images/dog.jpg\")\n",
    "# channel : 0 - Blue , 1 - Greenm, 2 - Red\n",
    "hist = cv2.calcHist([img], [0], None, [256], [0, 256])\n",
    "plt.plot(hist, color=\"b\")\n",
    "plt.title(\"Histogram\")\n",
    "plt.xlabel(\"Pixel value\")\n",
    "plt.ylabel(\"Freqeuncy\")\n",
    "plt.show()"
   ]
  },
  {
   "cell_type": "code",
   "execution_count": null,
   "metadata": {},
   "outputs": [],
   "source": [
    "import cv2\n",
    "import matplotlib.pyplot as plt\n",
    "\n",
    "img = cv2.imread(\"images/dog.jpg\")\n",
    "# channel : 0 - Blue , 1 - Greenm, 2 - Red\n",
    "hist1 = cv2.calcHist([img], [0], None, [256], [0, 256])\n",
    "hist2 = cv2.calcHist([img], [1], None, [256], [0, 256])\n",
    "hist3 = cv2.calcHist([img], [2], None, [256], [0, 256])\n",
    "\n",
    "plt.plot(hist1, color=\"b\")\n",
    "plt.plot(hist2, color=\"g\")\n",
    "plt.plot(hist3, color=\"r\")\n",
    "plt.title(\"Histogram\")\n",
    "plt.xlabel(\"Pixel value\")\n",
    "plt.ylabel(\"Freqeuncy\")\n",
    "plt.show()\n"
   ]
  },
  {
   "cell_type": "markdown",
   "metadata": {},
   "source": [
    "## 11. 경계선 검출(Canny Edge Detection)\n",
    "- 약한 임계값과 강한 임계값을 사용해 경계선을 검출\n",
    "- 그레이스케일 적용 -> 블러로 노이즈 제거 -> Canny 적용"
   ]
  },
  {
   "cell_type": "code",
   "execution_count": null,
   "metadata": {},
   "outputs": [],
   "source": [
    "import cv2\n",
    "MOUNTAIN = 'images/mountain.jpg'"
   ]
  },
  {
   "cell_type": "markdown",
   "metadata": {},
   "source": [
    "## 11-1 기본 구형"
   ]
  },
  {
   "cell_type": "code",
   "execution_count": null,
   "metadata": {},
   "outputs": [],
   "source": [
    "img = cv2.imread(MOUNTAIN, cv2.IMREAD_GRAYSCALE)\n",
    "canny = cv2.Canny(img, 50, 150)\n",
    "\n",
    "cv2.imshow(\"Canny\", canny)\n",
    "cv2.imshow(\"original\", img)\n",
    "cv2.waitKey(0)\n",
    "cv2.destroyAllWindows()"
   ]
  },
  {
   "cell_type": "markdown",
   "metadata": {},
   "source": [
    "### 11-2. 트랙바"
   ]
  },
  {
   "cell_type": "code",
   "execution_count": 24,
   "metadata": {},
   "outputs": [],
   "source": [
    "img = cv2.imread(MOUNTAIN, cv2.IMREAD_GRAYSCALE)\n",
    "name = \"canny\"\n",
    "cv2.namedWindow(name)\n",
    "\n",
    "cv2.createTrackbar(\"threshold1\", name, 50, 255, lambda x: x)\n",
    "cv2.createTrackbar(\"threshold2\", name, 150, 255, lambda x: x)\n",
    "\n",
    "while True:\n",
    "    threshold1 = cv2.getTrackbarPos(\"threshold1\", name)\n",
    "    threshold2 = cv2.getTrackbarPos(\"threshold2\", name)\n",
    "    canny = cv2.Canny(img, threshold1, threshold2)\n",
    "    cv2.imshow(name, canny)\n",
    "    \n",
    "    \n",
    "    if cv2.waitKey(1) == ord('q'):\n",
    "        break\n",
    "\n",
    "cv2.destroyAllWindows()\n"
   ]
  },
  {
   "cell_type": "markdown",
   "metadata": {},
   "source": [
    "### 실습2. 캠 화면에 검출\n",
    "1. 캠 화면에 canny edge detection 적용\n",
    "2. canny의 threshold1, threshold2를 조절할 수 있는 Trackbar 생성"
   ]
  },
  {
   "cell_type": "code",
   "execution_count": 12,
   "metadata": {},
   "outputs": [
    {
     "ename": "error",
     "evalue": "OpenCV(4.10.0) D:\\a\\opencv-python\\opencv-python\\opencv\\modules\\highgui\\src\\window_w32.cpp:2561: error: (-27:Null pointer) NULL window: 'canny' in function 'cvGetTrackbarPos'\n",
     "output_type": "error",
     "traceback": [
      "\u001b[1;31m---------------------------------------------------------------------------\u001b[0m",
      "\u001b[1;31merror\u001b[0m                                     Traceback (most recent call last)",
      "Cell \u001b[1;32mIn[12], line 20\u001b[0m\n\u001b[0;32m     17\u001b[0m \u001b[38;5;28;01mif\u001b[39;00m \u001b[38;5;129;01mnot\u001b[39;00m ret:\n\u001b[0;32m     18\u001b[0m     \u001b[38;5;28;01mbreak\u001b[39;00m\n\u001b[1;32m---> 20\u001b[0m threshold1 \u001b[38;5;241m=\u001b[39m \u001b[43mcv2\u001b[49m\u001b[38;5;241;43m.\u001b[39;49m\u001b[43mgetTrackbarPos\u001b[49m\u001b[43m(\u001b[49m\u001b[38;5;124;43m\"\u001b[39;49m\u001b[38;5;124;43mthreshold1\u001b[39;49m\u001b[38;5;124;43m\"\u001b[39;49m\u001b[43m,\u001b[49m\u001b[43m \u001b[49m\u001b[43mname\u001b[49m\u001b[43m)\u001b[49m\n\u001b[0;32m     21\u001b[0m threshold2 \u001b[38;5;241m=\u001b[39m cv2\u001b[38;5;241m.\u001b[39mgetTrackbarPos(\u001b[38;5;124m\"\u001b[39m\u001b[38;5;124mthreshold2\u001b[39m\u001b[38;5;124m\"\u001b[39m, name)\n\u001b[0;32m     22\u001b[0m canny \u001b[38;5;241m=\u001b[39m cv2\u001b[38;5;241m.\u001b[39mCanny(frame, threshold1, threshold2)\n",
      "\u001b[1;31merror\u001b[0m: OpenCV(4.10.0) D:\\a\\opencv-python\\opencv-python\\opencv\\modules\\highgui\\src\\window_w32.cpp:2561: error: (-27:Null pointer) NULL window: 'canny' in function 'cvGetTrackbarPos'\n"
     ]
    }
   ],
   "source": [
    "import cv2\n",
    "\n",
    "img = cv2.VideoCapture(0)\n",
    "\n",
    "if not img.isOpened():\n",
    "    exit()\n",
    "\n",
    "name = \"canny\"\n",
    "cv2.namedWindow(name)\n",
    "\n",
    "cv2.createTrackbar(\"threshold1\", name, 50, 255, lambda x: x)\n",
    "cv2.createTrackbar(\"threshold2\", name, 150, 255, lambda x: x)\n",
    "\n",
    "while True:\n",
    "    ret, frame = img.read()\n",
    "\n",
    "    if not ret:\n",
    "        break\n",
    "\n",
    "    threshold1 = cv2.getTrackbarPos(\"threshold1\", name)\n",
    "    threshold2 = cv2.getTrackbarPos(\"threshold2\", name)\n",
    "    canny = cv2.Canny(frame, threshold1, threshold2)\n",
    "\n",
    "    cv2.imshow(name, canny)\n",
    "    \n",
    "    \n",
    "    if cv2.waitKey(1) == ord('q'):\n",
    "        break\n",
    "\n",
    "img.release()\n",
    "cv2.destroyAllWindows()"
   ]
  },
  {
   "cell_type": "code",
   "execution_count": 20,
   "metadata": {},
   "outputs": [],
   "source": [
    "img = cv2.imread(\"images/dog.jpg\", cv2.IMREAD_GRAYSCALE)\n",
    "blurred = cv2.GaussianBlur(img, (0,0), 3)\n",
    "\n",
    "canny_img = cv2.Canny(img, 50, 150)\n",
    "canny_blurred = cv2.Canny(blurred, 20, 50)\n",
    "\n",
    "cv2.imshow(\"canny\", canny_img)\n",
    "cv2.imshow(\"blurred\", canny_blurred)\n",
    "\n",
    "cv2.waitKey(0)\n",
    "cv2.destroyAllWindows()"
   ]
  }
 ],
 "metadata": {
  "kernelspec": {
   "display_name": "my_cv",
   "language": "python",
   "name": "python3"
  },
  "language_info": {
   "codemirror_mode": {
    "name": "ipython",
    "version": 3
   },
   "file_extension": ".py",
   "mimetype": "text/x-python",
   "name": "python",
   "nbconvert_exporter": "python",
   "pygments_lexer": "ipython3",
   "version": "3.12.7"
  }
 },
 "nbformat": 4,
 "nbformat_minor": 2
}
