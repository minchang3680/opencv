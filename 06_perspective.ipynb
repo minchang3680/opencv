{
 "cells": [
  {
   "cell_type": "markdown",
   "metadata": {},
   "source": [
    "## 07. 원근 변환"
   ]
  },
  {
   "cell_type": "code",
   "execution_count": 1,
   "metadata": {},
   "outputs": [],
   "source": [
    "import cv2\n",
    "import numpy as np\n",
    "CARD = 'images/card.jpg'"
   ]
  },
  {
   "cell_type": "code",
   "execution_count": 19,
   "metadata": {},
   "outputs": [],
   "source": [
    "img = cv2.imread(CARD)\n",
    "width, height = 600, 350\n",
    "\n",
    "# 변형할 지점 선택 : 시계 방향\n",
    "src = np.array([[54, 261], [981,128], [1213, 560], [194, 735]], dtype= np.float32)\n",
    "\n",
    "# 결과물 출력할 형태 : 시계\n",
    "dst = np.array([[0, 0], [width, 0], [width, height], [0, height]], dtype= np.float32)\n",
    "\n",
    "# 원근을 변형하기 위한 matrix 생성\n",
    "mat = cv2.getPerspectiveTransform(src, dst)\n",
    "\n",
    "# img를 mat에 의해 변환\n",
    "result = cv2.warpPerspective(img, mat, (width, height))\n",
    "\n",
    "cv2.imshow(\"img\", img)\n",
    "cv2.imshow(\"perspective\", result)\n",
    "\n",
    "cv2.waitKey(0)\n",
    "cv2.destroyAllWindows()"
   ]
  },
  {
   "cell_type": "code",
   "execution_count": 18,
   "metadata": {},
   "outputs": [],
   "source": [
    "\n",
    "# [694, 252] [1183, 375] [833,672] [645,611]\n",
    "\n",
    "img = cv2.imread(\"images/me1.jpg\")\n",
    "width, height = 900, 700\n",
    "\n",
    "# 변형할 지점 선택 : 시계 방향\n",
    "src = np.array([[59, 711], [185, 578], [282, 672], [154,792]], dtype= np.float32)\n",
    "\n",
    "# 결과물 출력할 형태 : 시계\n",
    "dst = np.array([[0, 0], [width, 0], [width, height], [0, height]], dtype= np.float32)\n",
    "\n",
    "# 원근을 변형하기 위한 matrix 생성\n",
    "mat = cv2.getPerspectiveTransform(src, dst)\n",
    "\n",
    "# img를 mat에 의해 변환\n",
    "result = cv2.warpPerspective(img, mat, (width, height))\n",
    "\n",
    "cv2.imshow(\"img\", img)\n",
    "cv2.imshow(\"perspective\", result)\n",
    "\n",
    "cv2.waitKey(0)\n",
    "cv2.destroyAllWindows()"
   ]
  }
 ],
 "metadata": {
  "kernelspec": {
   "display_name": "my_cv",
   "language": "python",
   "name": "python3"
  },
  "language_info": {
   "codemirror_mode": {
    "name": "ipython",
    "version": 3
   },
   "file_extension": ".py",
   "mimetype": "text/x-python",
   "name": "python",
   "nbconvert_exporter": "python",
   "pygments_lexer": "ipython3",
   "version": "3.12.7"
  }
 },
 "nbformat": 4,
 "nbformat_minor": 2
}
